{
 "cells": [
  {
   "cell_type": "code",
   "execution_count": 66,
   "metadata": {},
   "outputs": [],
   "source": [
    "import os\n",
    "import pickle\n",
    "import numpy as np\n",
    "import pandas as pd\n",
    "from gensim.models import LdaModel\n",
    "from gensim.corpora import Dictionary\n",
    "from gensim.models import CoherenceModel\n",
    "from gensim.utils import simple_preprocess\n",
    "from gensim.parsing.preprocessing import STOPWORDS\n",
    "from sklearn.metrics.pairwise import cosine_similarity\n",
    "\n"
   ]
  },
  {
   "cell_type": "code",
   "execution_count": 73,
   "metadata": {},
   "outputs": [
    {
     "name": "stderr",
     "output_type": "stream",
     "text": [
      "[nltk_data] Downloading package stopwords to\n",
      "[nltk_data]     /home/krtucho/nltk_data...\n",
      "[nltk_data]   Package stopwords is already up-to-date!\n"
     ]
    }
   ],
   "source": [
    "import nltk\n",
    "#Given an object named 'texts' (a list of tokenized texts, ie a list of lists of tokens)\n",
    "#from gensim.test.utils import common_texts as texts\n",
    "\n",
    "# Create a corpus from a list of lists of tokens\n",
    "from gensim.corpora.dictionary import Dictionary\n",
    "\n",
    "from gensim.utils import simple_preprocess\n",
    "from sklearn.metrics.pairwise import cosine_similarity\n",
    "\n",
    "from nltk.corpus import stopwords\n",
    "nltk.download('stopwords')\n",
    "\n",
    "texts=[]\n",
    "file = open(\"TokenVieuxM.txt\", \"r\")\n",
    "lines = file.readlines()\n",
    "file.close()\n",
    "\n",
    "#print(stopwords.words())\n",
    "\n",
    "for line in lines:\n",
    "  line=line.strip()\n",
    "  lt=line.split(\",\")\n",
    "#Potential ill-character cleaning\n",
    "  for i in range(len(lt)):\n",
    "    lt[i]=lt[i].replace('[','')\n",
    "    lt[i]=lt[i].replace(']','')\n",
    "    lt[i]=lt[i].replace('\"','')\n",
    "    lt[i]=lt[i].replace('\\n','')\n",
    "    lt[i]=lt[i].replace(' ', '')\n",
    "#End : Potential ill-characters cleaning\n",
    "# print(lt)\n",
    "  ltc=[word for word in lt if not word in stopwords.words()] # Remove Stopwords activated\n",
    "#  print(\"C\", ltc)\n",
    "  texts.append(lt)\n",
    "\n",
    "#for text in texts:\n",
    "  #print(text)\n",
    "\n",
    "#Here set the number of topics(to be changed if necessary)\n",
    "nb=10\n",
    "  \n",
    "id2word = Dictionary(texts)\n",
    "corpus = [id2word.doc2bow(text) for text in texts]\n",
    "#print(corpus)\n",
    "\n",
    "# Print dictionnary # ***********\n",
    "# for i in id2word:\n",
    "#   print(i, id2word[i])\n",
    "\n",
    "# Train the lda model on the corpus.\n",
    "from gensim.models import LdaModel\n",
    "lda = LdaModel(corpus, num_topics=nb)\n",
    "\n",
    "# Print topic descrition\n",
    "for i in range(0, nb-1):\n",
    "  value=lda.get_topic_terms(i)\n",
    "#  print(value)\n",
    "  # print(\"Topic \", i) # *******************\n",
    "  # for j in value:\n",
    "  #   print(id2word[j[0]], \" - P=\", j[1])\n",
    "  # print() # *******************\n",
    "\n",
    "from gensim.models import CoherenceModel\n",
    "coherence_model_lda = CoherenceModel(model=lda, texts=texts, dictionary=id2word, coherence='c_v')\n",
    "coherence_lda = coherence_model_lda.get_coherence()\n",
    "# print('Coherence= ', coherence_lda) # *******************************\n",
    "\n",
    "# from gensim.utils import simple_preprocess\n"
   ]
  },
  {
   "cell_type": "code",
   "execution_count": 83,
   "metadata": {},
   "outputs": [
    {
     "data": {
      "text/plain": [
       "<gensim.interfaces.TransformedCorpus at 0x7f66973a6e80>"
      ]
     },
     "execution_count": 83,
     "metadata": {},
     "output_type": "execute_result"
    }
   ],
   "source": [
    "doc_topics = lda.get_document_topics(corpus)\n",
    "# doc_topic = []\n",
    "# for topic in doc_topics:\n",
    "#     for item in topic:\n",
    "#         doc_topic.append(item)\n",
    "\n",
    "# # doc_topics = [inside_doc_topic for inside_doc_topic in [doc_topic for doc_topic in doc_topics]]\n",
    "\n",
    "doc_topics"
   ]
  },
  {
   "cell_type": "code",
   "execution_count": 91,
   "metadata": {},
   "outputs": [
    {
     "name": "stdout",
     "output_type": "stream",
     "text": [
      "Typical Document for each topic, topic proportion (or probability) in documents\n",
      "Topic 0: ['abstract', 'acoustic', 'signals', 'are', 'extensively', 'used', 'for', 'guiding', 'various', 'behaviors', 'in', 'frogs', 'such', 'as', 'vocalization', 'and', 'phonotaxis', 'while', 'numerous', 'studies', 'have', 'investigated', 'the', 'anatomy', 'and', 'physiology', 'of', 'the', 'auditory', 'system', 'our', 'knowledge', 'of', 'intrinsic', 'properties', 'and', 'connectivity', 'of', 'individual', 'auditory', 'neurons', 'remains', 'poor', 'moreover', 'the', 'neural', 'basis', 'of', 'audiomotor', 'integration', 'still', 'has', 'to', 'be', 'elucidated', 'we', 'determined', 'basic', 'response', 'patterns', 'dendritic', 'arborization', 'and', 'axonal', 'projection', 'patterns', 'of', 'auditory', 'midbrain', 'units', 'with', 'intracellular', 'recording', 'and', 'staining', 'techniques', 'in', 'an', 'isolated', 'brain', 'preparation', 'the', 'subnuclei', 'of', 'the', 'torus', 'semicircularis', 'subserve', 'different', 'tasks', 'the', 'principal', 'nucleus', 'the', 'main', 'target', 'of', 'the', 'ascending', 'auditory', 'input', 'has', 'mostly', 'intrinsic', 'neurons', 'ie', 'their', 'dendrites', 'and', 'axons', 'are', 'restricted', 'to', 'the', 'torus', 'itself', 'in', 'contrast', 'neurons', 'of', 'the', 'magnocellular', 'and', 'the', 'laminar', 'nucleus', 'project', 'to', 'various', 'auditory', 'and', 'nonauditory', 'processing', 'centers', 'the', 'projection', 'targets', 'include', 'thalamus', 'tegmentum', 'periaqueductal', 'gray', 'medulla', 'oblongata', 'and', '–', 'in', 'the', 'case', 'of', 'laminar', 'neurons', '–', 'the', 'spinal', 'cord', 'additionally', 'tegmental', 'cells', 'receive', 'direct', 'auditory', 'input', 'and', 'project', 'to', 'various', 'targets', 'including', 'the', 'spinal', 'cord', 'our', 'data', 'imply', 'that', 'both', 'auditory', 'and', 'premotor', 'functions', 'are', 'implemented', 'in', 'individual', 'toral', 'and', 'tegmental', 'neurons', 'their', 'axons', 'constitute', 'parallel', 'descending', 'pathways', 'to', 'several', 'effector', 'systems', 'and', 'might', 'be', 'part', 'of', 'the', 'neural', 'substrate', 'for', 'differential', 'audiomotor', 'integration'] \n",
      "with prob: 0.9957541823387146\n",
      "\n",
      "Topic 7: ['abstract', 'the', 'accumulation', 'of', 'nonenzymatic', 'modifications', 'on', 'both', 'dna', 'and', 'protein', 'molecules', 'under', 'the', 'attack', 'of', 'reactive', 'oxygen', 'species', 'ros', 'is', 'one', 'of', 'the', 'most', 'possible', 'factors', 'responsible', 'for', 'the', 'functional', 'deterioration', 'in', 'aged', 'cells', 'direct', 'protein', 'modifications', 'as', 'well', 'as', 'dna', 'damages', 'may', 'be', 'detectable', 'in', 'part', 'by', 'proteome', 'analysis', 'if', 'the', 'gene', 'expression', 'is', 'affected', 'by', 'the', 'damages', 'on', 'dna', 'the', 'novel', 'term', '“proteome”', 'which', 'is', 'a', 'compound', 'of', '“protein”', 'and', '“genome”', 'means', 'a', 'whole', 'set', 'of', 'proteins', 'expressed', 'in', 'a', 'tissue', 'or', 'a', 'cell', 'strain', 'to', 'be', 'investigated', 'proteomics', 'is', 'a', 'methodology', 'for', 'analyzing', 'proteomes', 'in', 'proteomics', 'twodimensional', 'gel', 'electrophoresis', 'is', 'performed', 'primarily', 'to', 'separate', 'constitutive', 'proteins', 'followed', 'by', 'mass', 'spectrometry', 'to', 'identify', 'each', 'protein', 'of', 'interest', 'and', 'to', 'determine', 'a', 'possible', 'posttranslational', 'modification', 'proteomics', 'has', 'offered', 'us', 'an', 'innovative', 'tool', 'for', 'investigating', 'the', 'molecular', 'mechanisms', 'of', 'cellular', 'aging'] \n",
      "with prob: 0.6666871309280396\n",
      "\n",
      "Topic 5: ['purpose', 'we', 'adopted', 'a', 'feminist', 'structural', 'approach', 'to', 'husbands', 'experiences', 'of', 'caring', 'for', 'wives', 'with', 'alzheimers', 'disease', 'this', 'framework', 'posited', 'that', 'men', 'and', 'women', 'draw', 'upon', 'gender', 'repertoires—situational', 'ideals', 'of', 'behavior', 'based', 'upon', 'their', 'respective', 'structural', 'locations—that', 'create', 'gendered', 'experiences', 'of', 'stress', 'and', 'coping', 'strategies', 'design', 'and', 'methods', 'we', 'used', 'a', 'qualitative', 'constructivist', 'approach', 'to', 'analyze', 'indepth', 'interviews', 'with', '22', 'spousal', 'caregivers', 'and', 'observations', 'within', 'support', 'groups', 'our', 'analysis', 'focused', 'on', 'the', 'nine', 'husbands', 'the', 'strategies', 'these', 'men', 'reported', 'using', 'to', 'deal', 'with', 'problems', 'that', 'arose', 'in', 'their', 'care', 'work', 'and', 'the', 'extent', 'to', 'which', 'these', 'are', 'congruent', 'with', 'the', 'masculinities', 'of', 'white', 'men', 'in', 'the', 'united', 'states', 'results', 'we', 'found', 'that', 'these', 'husbands', 'approaches', 'to', 'caregiving', 'and', 'their', 'strategies', 'for', 'dealing', 'with', 'the', 'work', 'and', 'feelings', 'involved', 'were', 'rooted', 'in', 'their', 'sense', 'of', 'selves', 'as', 'men', 'we', 'outline', 'their', 'overall', 'approaches', 'to', 'caregiving', 'identify', 'six', 'strategies', 'husbands', 'used', 'to', 'deal', 'with', 'problems', 'stemming', 'from', 'care', 'work—exerting', 'force', 'focusing', 'on', 'tasks', 'blocking', 'emotions', 'minimizing', 'disruption', 'distracting', 'attention', 'and', 'selfmedicating—and', 'tie', 'these', 'to', 'their', 'structural', 'positions', 'as', 'working', 'middle', 'and', 'professionalclass', 'men', 'implications', 'theories', 'of', 'gender', 'differences', 'in', 'the', 'performance', 'or', 'quality', 'of', 'care', 'work', 'should', 'tie', 'these', 'to', 'structural', 'arrangements', 'unless', 'the', 'gendered', 'bases', 'upon', 'which', 'different', 'styles', 'or', 'experiences', 'are', 'removed', 'ie', 'structural', 'inequality', 'designers', 'of', 'interventions', 'cannot', 'and', 'should', 'not', 'expect', 'to', 'use', 'the', 'experience', 'of', 'one', 'group', 'to', 'inform', 'appropriate', 'strategies', 'for', 'the', 'other'] \n",
      "with prob: 0.9962180852890015\n",
      "\n"
     ]
    }
   ],
   "source": [
    "# Get the topic distribution for each document\n",
    "\n",
    "most_typical_docs = {}\n",
    "for i, doc_topic in enumerate(doc_topics):\n",
    "    for item in doc_topic: \n",
    "        topic, prob = item\n",
    "        if most_typical_docs.__contains__(topic):\n",
    "            if most_typical_docs[topic][1] < prob:\n",
    "                most_typical_docs[topic] = (topic, prob, texts[i])\n",
    "        else:\n",
    "            most_typical_docs[topic] = (topic, prob, texts[i])\n",
    "        \n",
    "print(\"Typical Document for each topic, topic proportion (or probability) in documents\") \n",
    "for i, prob, doc in most_typical_docs.values():\n",
    "    print(f\"Topic {i}: {doc} \\nwith prob: {prob}\")\n",
    "    print()"
   ]
  },
  {
   "cell_type": "code",
   "execution_count": 85,
   "metadata": {},
   "outputs": [
    {
     "name": "stdout",
     "output_type": "stream",
     "text": [
      "Typical Document for each topic, cosine_similarity\n",
      "Topic 0: ['abstract', 'the', 'accumulation', 'of', 'nonenzymatic', 'modifications', 'on', 'both', 'dna', 'and', 'protein', 'molecules', 'under', 'the', 'attack', 'of', 'reactive', 'oxygen', 'species', 'ros', 'is', 'one', 'of', 'the', 'most', 'possible', 'factors', 'responsible', 'for', 'the', 'functional', 'deterioration', 'in', 'aged', 'cells', 'direct', 'protein', 'modifications', 'as', 'well', 'as', 'dna', 'damages', 'may', 'be', 'detectable', 'in', 'part', 'by', 'proteome', 'analysis', 'if', 'the', 'gene', 'expression', 'is', 'affected', 'by', 'the', 'damages', 'on', 'dna', 'the', 'novel', 'term', '“proteome”', 'which', 'is', 'a', 'compound', 'of', '“protein”', 'and', '“genome”', 'means', 'a', 'whole', 'set', 'of', 'proteins', 'expressed', 'in', 'a', 'tissue', 'or', 'a', 'cell', 'strain', 'to', 'be', 'investigated', 'proteomics', 'is', 'a', 'methodology', 'for', 'analyzing', 'proteomes', 'in', 'proteomics', 'twodimensional', 'gel', 'electrophoresis', 'is', 'performed', 'primarily', 'to', 'separate', 'constitutive', 'proteins', 'followed', 'by', 'mass', 'spectrometry', 'to', 'identify', 'each', 'protein', 'of', 'interest', 'and', 'to', 'determine', 'a', 'possible', 'posttranslational', 'modification', 'proteomics', 'has', 'offered', 'us', 'an', 'innovative', 'tool', 'for', 'investigating', 'the', 'molecular', 'mechanisms', 'of', 'cellular', 'aging']\n",
      "\n",
      "Topic 1: ['abstract', 'the', 'accumulation', 'of', 'nonenzymatic', 'modifications', 'on', 'both', 'dna', 'and', 'protein', 'molecules', 'under', 'the', 'attack', 'of', 'reactive', 'oxygen', 'species', 'ros', 'is', 'one', 'of', 'the', 'most', 'possible', 'factors', 'responsible', 'for', 'the', 'functional', 'deterioration', 'in', 'aged', 'cells', 'direct', 'protein', 'modifications', 'as', 'well', 'as', 'dna', 'damages', 'may', 'be', 'detectable', 'in', 'part', 'by', 'proteome', 'analysis', 'if', 'the', 'gene', 'expression', 'is', 'affected', 'by', 'the', 'damages', 'on', 'dna', 'the', 'novel', 'term', '“proteome”', 'which', 'is', 'a', 'compound', 'of', '“protein”', 'and', '“genome”', 'means', 'a', 'whole', 'set', 'of', 'proteins', 'expressed', 'in', 'a', 'tissue', 'or', 'a', 'cell', 'strain', 'to', 'be', 'investigated', 'proteomics', 'is', 'a', 'methodology', 'for', 'analyzing', 'proteomes', 'in', 'proteomics', 'twodimensional', 'gel', 'electrophoresis', 'is', 'performed', 'primarily', 'to', 'separate', 'constitutive', 'proteins', 'followed', 'by', 'mass', 'spectrometry', 'to', 'identify', 'each', 'protein', 'of', 'interest', 'and', 'to', 'determine', 'a', 'possible', 'posttranslational', 'modification', 'proteomics', 'has', 'offered', 'us', 'an', 'innovative', 'tool', 'for', 'investigating', 'the', 'molecular', 'mechanisms', 'of', 'cellular', 'aging']\n",
      "\n",
      "Topic 2: ['abstract', 'the', 'accumulation', 'of', 'nonenzymatic', 'modifications', 'on', 'both', 'dna', 'and', 'protein', 'molecules', 'under', 'the', 'attack', 'of', 'reactive', 'oxygen', 'species', 'ros', 'is', 'one', 'of', 'the', 'most', 'possible', 'factors', 'responsible', 'for', 'the', 'functional', 'deterioration', 'in', 'aged', 'cells', 'direct', 'protein', 'modifications', 'as', 'well', 'as', 'dna', 'damages', 'may', 'be', 'detectable', 'in', 'part', 'by', 'proteome', 'analysis', 'if', 'the', 'gene', 'expression', 'is', 'affected', 'by', 'the', 'damages', 'on', 'dna', 'the', 'novel', 'term', '“proteome”', 'which', 'is', 'a', 'compound', 'of', '“protein”', 'and', '“genome”', 'means', 'a', 'whole', 'set', 'of', 'proteins', 'expressed', 'in', 'a', 'tissue', 'or', 'a', 'cell', 'strain', 'to', 'be', 'investigated', 'proteomics', 'is', 'a', 'methodology', 'for', 'analyzing', 'proteomes', 'in', 'proteomics', 'twodimensional', 'gel', 'electrophoresis', 'is', 'performed', 'primarily', 'to', 'separate', 'constitutive', 'proteins', 'followed', 'by', 'mass', 'spectrometry', 'to', 'identify', 'each', 'protein', 'of', 'interest', 'and', 'to', 'determine', 'a', 'possible', 'posttranslational', 'modification', 'proteomics', 'has', 'offered', 'us', 'an', 'innovative', 'tool', 'for', 'investigating', 'the', 'molecular', 'mechanisms', 'of', 'cellular', 'aging']\n",
      "\n",
      "Topic 3: ['abstract', 'the', 'accumulation', 'of', 'nonenzymatic', 'modifications', 'on', 'both', 'dna', 'and', 'protein', 'molecules', 'under', 'the', 'attack', 'of', 'reactive', 'oxygen', 'species', 'ros', 'is', 'one', 'of', 'the', 'most', 'possible', 'factors', 'responsible', 'for', 'the', 'functional', 'deterioration', 'in', 'aged', 'cells', 'direct', 'protein', 'modifications', 'as', 'well', 'as', 'dna', 'damages', 'may', 'be', 'detectable', 'in', 'part', 'by', 'proteome', 'analysis', 'if', 'the', 'gene', 'expression', 'is', 'affected', 'by', 'the', 'damages', 'on', 'dna', 'the', 'novel', 'term', '“proteome”', 'which', 'is', 'a', 'compound', 'of', '“protein”', 'and', '“genome”', 'means', 'a', 'whole', 'set', 'of', 'proteins', 'expressed', 'in', 'a', 'tissue', 'or', 'a', 'cell', 'strain', 'to', 'be', 'investigated', 'proteomics', 'is', 'a', 'methodology', 'for', 'analyzing', 'proteomes', 'in', 'proteomics', 'twodimensional', 'gel', 'electrophoresis', 'is', 'performed', 'primarily', 'to', 'separate', 'constitutive', 'proteins', 'followed', 'by', 'mass', 'spectrometry', 'to', 'identify', 'each', 'protein', 'of', 'interest', 'and', 'to', 'determine', 'a', 'possible', 'posttranslational', 'modification', 'proteomics', 'has', 'offered', 'us', 'an', 'innovative', 'tool', 'for', 'investigating', 'the', 'molecular', 'mechanisms', 'of', 'cellular', 'aging']\n",
      "\n",
      "Topic 4: ['abstract', 'the', 'accumulation', 'of', 'nonenzymatic', 'modifications', 'on', 'both', 'dna', 'and', 'protein', 'molecules', 'under', 'the', 'attack', 'of', 'reactive', 'oxygen', 'species', 'ros', 'is', 'one', 'of', 'the', 'most', 'possible', 'factors', 'responsible', 'for', 'the', 'functional', 'deterioration', 'in', 'aged', 'cells', 'direct', 'protein', 'modifications', 'as', 'well', 'as', 'dna', 'damages', 'may', 'be', 'detectable', 'in', 'part', 'by', 'proteome', 'analysis', 'if', 'the', 'gene', 'expression', 'is', 'affected', 'by', 'the', 'damages', 'on', 'dna', 'the', 'novel', 'term', '“proteome”', 'which', 'is', 'a', 'compound', 'of', '“protein”', 'and', '“genome”', 'means', 'a', 'whole', 'set', 'of', 'proteins', 'expressed', 'in', 'a', 'tissue', 'or', 'a', 'cell', 'strain', 'to', 'be', 'investigated', 'proteomics', 'is', 'a', 'methodology', 'for', 'analyzing', 'proteomes', 'in', 'proteomics', 'twodimensional', 'gel', 'electrophoresis', 'is', 'performed', 'primarily', 'to', 'separate', 'constitutive', 'proteins', 'followed', 'by', 'mass', 'spectrometry', 'to', 'identify', 'each', 'protein', 'of', 'interest', 'and', 'to', 'determine', 'a', 'possible', 'posttranslational', 'modification', 'proteomics', 'has', 'offered', 'us', 'an', 'innovative', 'tool', 'for', 'investigating', 'the', 'molecular', 'mechanisms', 'of', 'cellular', 'aging']\n",
      "\n",
      "Topic 5: ['abstract', 'the', 'accumulation', 'of', 'nonenzymatic', 'modifications', 'on', 'both', 'dna', 'and', 'protein', 'molecules', 'under', 'the', 'attack', 'of', 'reactive', 'oxygen', 'species', 'ros', 'is', 'one', 'of', 'the', 'most', 'possible', 'factors', 'responsible', 'for', 'the', 'functional', 'deterioration', 'in', 'aged', 'cells', 'direct', 'protein', 'modifications', 'as', 'well', 'as', 'dna', 'damages', 'may', 'be', 'detectable', 'in', 'part', 'by', 'proteome', 'analysis', 'if', 'the', 'gene', 'expression', 'is', 'affected', 'by', 'the', 'damages', 'on', 'dna', 'the', 'novel', 'term', '“proteome”', 'which', 'is', 'a', 'compound', 'of', '“protein”', 'and', '“genome”', 'means', 'a', 'whole', 'set', 'of', 'proteins', 'expressed', 'in', 'a', 'tissue', 'or', 'a', 'cell', 'strain', 'to', 'be', 'investigated', 'proteomics', 'is', 'a', 'methodology', 'for', 'analyzing', 'proteomes', 'in', 'proteomics', 'twodimensional', 'gel', 'electrophoresis', 'is', 'performed', 'primarily', 'to', 'separate', 'constitutive', 'proteins', 'followed', 'by', 'mass', 'spectrometry', 'to', 'identify', 'each', 'protein', 'of', 'interest', 'and', 'to', 'determine', 'a', 'possible', 'posttranslational', 'modification', 'proteomics', 'has', 'offered', 'us', 'an', 'innovative', 'tool', 'for', 'investigating', 'the', 'molecular', 'mechanisms', 'of', 'cellular', 'aging']\n",
      "\n",
      "Topic 6: ['abstract', 'the', 'accumulation', 'of', 'nonenzymatic', 'modifications', 'on', 'both', 'dna', 'and', 'protein', 'molecules', 'under', 'the', 'attack', 'of', 'reactive', 'oxygen', 'species', 'ros', 'is', 'one', 'of', 'the', 'most', 'possible', 'factors', 'responsible', 'for', 'the', 'functional', 'deterioration', 'in', 'aged', 'cells', 'direct', 'protein', 'modifications', 'as', 'well', 'as', 'dna', 'damages', 'may', 'be', 'detectable', 'in', 'part', 'by', 'proteome', 'analysis', 'if', 'the', 'gene', 'expression', 'is', 'affected', 'by', 'the', 'damages', 'on', 'dna', 'the', 'novel', 'term', '“proteome”', 'which', 'is', 'a', 'compound', 'of', '“protein”', 'and', '“genome”', 'means', 'a', 'whole', 'set', 'of', 'proteins', 'expressed', 'in', 'a', 'tissue', 'or', 'a', 'cell', 'strain', 'to', 'be', 'investigated', 'proteomics', 'is', 'a', 'methodology', 'for', 'analyzing', 'proteomes', 'in', 'proteomics', 'twodimensional', 'gel', 'electrophoresis', 'is', 'performed', 'primarily', 'to', 'separate', 'constitutive', 'proteins', 'followed', 'by', 'mass', 'spectrometry', 'to', 'identify', 'each', 'protein', 'of', 'interest', 'and', 'to', 'determine', 'a', 'possible', 'posttranslational', 'modification', 'proteomics', 'has', 'offered', 'us', 'an', 'innovative', 'tool', 'for', 'investigating', 'the', 'molecular', 'mechanisms', 'of', 'cellular', 'aging']\n",
      "\n",
      "Topic 7: ['abstract', 'the', 'accumulation', 'of', 'nonenzymatic', 'modifications', 'on', 'both', 'dna', 'and', 'protein', 'molecules', 'under', 'the', 'attack', 'of', 'reactive', 'oxygen', 'species', 'ros', 'is', 'one', 'of', 'the', 'most', 'possible', 'factors', 'responsible', 'for', 'the', 'functional', 'deterioration', 'in', 'aged', 'cells', 'direct', 'protein', 'modifications', 'as', 'well', 'as', 'dna', 'damages', 'may', 'be', 'detectable', 'in', 'part', 'by', 'proteome', 'analysis', 'if', 'the', 'gene', 'expression', 'is', 'affected', 'by', 'the', 'damages', 'on', 'dna', 'the', 'novel', 'term', '“proteome”', 'which', 'is', 'a', 'compound', 'of', '“protein”', 'and', '“genome”', 'means', 'a', 'whole', 'set', 'of', 'proteins', 'expressed', 'in', 'a', 'tissue', 'or', 'a', 'cell', 'strain', 'to', 'be', 'investigated', 'proteomics', 'is', 'a', 'methodology', 'for', 'analyzing', 'proteomes', 'in', 'proteomics', 'twodimensional', 'gel', 'electrophoresis', 'is', 'performed', 'primarily', 'to', 'separate', 'constitutive', 'proteins', 'followed', 'by', 'mass', 'spectrometry', 'to', 'identify', 'each', 'protein', 'of', 'interest', 'and', 'to', 'determine', 'a', 'possible', 'posttranslational', 'modification', 'proteomics', 'has', 'offered', 'us', 'an', 'innovative', 'tool', 'for', 'investigating', 'the', 'molecular', 'mechanisms', 'of', 'cellular', 'aging']\n",
      "\n",
      "Topic 8: ['abstract', 'the', 'accumulation', 'of', 'nonenzymatic', 'modifications', 'on', 'both', 'dna', 'and', 'protein', 'molecules', 'under', 'the', 'attack', 'of', 'reactive', 'oxygen', 'species', 'ros', 'is', 'one', 'of', 'the', 'most', 'possible', 'factors', 'responsible', 'for', 'the', 'functional', 'deterioration', 'in', 'aged', 'cells', 'direct', 'protein', 'modifications', 'as', 'well', 'as', 'dna', 'damages', 'may', 'be', 'detectable', 'in', 'part', 'by', 'proteome', 'analysis', 'if', 'the', 'gene', 'expression', 'is', 'affected', 'by', 'the', 'damages', 'on', 'dna', 'the', 'novel', 'term', '“proteome”', 'which', 'is', 'a', 'compound', 'of', '“protein”', 'and', '“genome”', 'means', 'a', 'whole', 'set', 'of', 'proteins', 'expressed', 'in', 'a', 'tissue', 'or', 'a', 'cell', 'strain', 'to', 'be', 'investigated', 'proteomics', 'is', 'a', 'methodology', 'for', 'analyzing', 'proteomes', 'in', 'proteomics', 'twodimensional', 'gel', 'electrophoresis', 'is', 'performed', 'primarily', 'to', 'separate', 'constitutive', 'proteins', 'followed', 'by', 'mass', 'spectrometry', 'to', 'identify', 'each', 'protein', 'of', 'interest', 'and', 'to', 'determine', 'a', 'possible', 'posttranslational', 'modification', 'proteomics', 'has', 'offered', 'us', 'an', 'innovative', 'tool', 'for', 'investigating', 'the', 'molecular', 'mechanisms', 'of', 'cellular', 'aging']\n",
      "\n",
      "Topic 9: ['abstract', 'the', 'accumulation', 'of', 'nonenzymatic', 'modifications', 'on', 'both', 'dna', 'and', 'protein', 'molecules', 'under', 'the', 'attack', 'of', 'reactive', 'oxygen', 'species', 'ros', 'is', 'one', 'of', 'the', 'most', 'possible', 'factors', 'responsible', 'for', 'the', 'functional', 'deterioration', 'in', 'aged', 'cells', 'direct', 'protein', 'modifications', 'as', 'well', 'as', 'dna', 'damages', 'may', 'be', 'detectable', 'in', 'part', 'by', 'proteome', 'analysis', 'if', 'the', 'gene', 'expression', 'is', 'affected', 'by', 'the', 'damages', 'on', 'dna', 'the', 'novel', 'term', '“proteome”', 'which', 'is', 'a', 'compound', 'of', '“protein”', 'and', '“genome”', 'means', 'a', 'whole', 'set', 'of', 'proteins', 'expressed', 'in', 'a', 'tissue', 'or', 'a', 'cell', 'strain', 'to', 'be', 'investigated', 'proteomics', 'is', 'a', 'methodology', 'for', 'analyzing', 'proteomes', 'in', 'proteomics', 'twodimensional', 'gel', 'electrophoresis', 'is', 'performed', 'primarily', 'to', 'separate', 'constitutive', 'proteins', 'followed', 'by', 'mass', 'spectrometry', 'to', 'identify', 'each', 'protein', 'of', 'interest', 'and', 'to', 'determine', 'a', 'possible', 'posttranslational', 'modification', 'proteomics', 'has', 'offered', 'us', 'an', 'innovative', 'tool', 'for', 'investigating', 'the', 'molecular', 'mechanisms', 'of', 'cellular', 'aging']\n",
      "\n"
     ]
    }
   ],
   "source": [
    "# Get the topic distribution for each document\n",
    "doc_topics = lda.get_document_topics(corpus)\n",
    "\n",
    "# print(doc_topics)\n",
    "# doc_topics\n",
    "# for doc_topic in doc_topics:\n",
    "#     print(doc_topic)\n",
    "\n",
    "# Get the most typical document for each topic based on cosine similarity\n",
    "topic_words = [lda.get_topic_terms(i, topn=10) for i in range(nb)]\n",
    "doc_vectors = np.zeros((len(texts), nb))\n",
    "for i, doc in enumerate(texts):\n",
    "    doc_term_vec = id2word.doc2bow(doc)\n",
    "    for j, prob in lda[doc_term_vec]:\n",
    "        doc_vectors[i][j] = prob\n",
    "        # print(\"Prob: \", prob)\n",
    "\n",
    "\n",
    "\n",
    "most_typical_docs = []\n",
    "for topic in range(nb):\n",
    "    topic_vec = np.zeros((1, nb))\n",
    "    for word, _ in topic_words[topic]:\n",
    "        if word in id2word.token2id:\n",
    "            topic_vec[0][lda.get_term_topics(word)[0][0]] = 1\n",
    "    similarity_scores = cosine_similarity(doc_vectors, topic_vec)\n",
    "    # print(\"sim Scores: \", similarity_scores)\n",
    "    most_typical_doc_index = np.argmax(similarity_scores)\n",
    "    # print(\"topic: \", topic, \"mtdi: \", most_typical_doc_index)\n",
    "    most_typical_docs.append(texts[most_typical_doc_index])\n",
    "\n",
    "# Print the most typical document for each topic\n",
    "print(\"Typical Document for each topic, cosine_similarity\") \n",
    "for i, doc in enumerate(most_typical_docs):\n",
    "    print(f\"Topic {i}: {doc}\")\n",
    "    print()"
   ]
  },
  {
   "cell_type": "code",
   "execution_count": 88,
   "metadata": {},
   "outputs": [
    {
     "name": "stdout",
     "output_type": "stream",
     "text": [
      "[('0', 0.3333), ('7', 0.1667), ('5', 0.5)]\n"
     ]
    }
   ],
   "source": [
    "topic_counts = {}\n",
    "sums = 0\n",
    "for doc_topic in doc_topics:\n",
    "    for item in doc_topic: \n",
    "        topic, prob = item\n",
    "        if topic_counts.__contains__(str(topic)):\n",
    "            topic_counts[str(topic)] = topic_counts[str(topic)]+1\n",
    "        else:\n",
    "            topic_counts[str(topic)] = 1\n",
    "        sums += 1\n",
    "\n",
    "rounds = [(topic, round(topic_count/sums, 4)) for (topic, topic_count) in topic_counts.items()]\n",
    "print(rounds)"
   ]
  }
 ],
 "metadata": {
  "kernelspec": {
   "display_name": "Python 3",
   "language": "python",
   "name": "python3"
  },
  "language_info": {
   "codemirror_mode": {
    "name": "ipython",
    "version": 3
   },
   "file_extension": ".py",
   "mimetype": "text/x-python",
   "name": "python",
   "nbconvert_exporter": "python",
   "pygments_lexer": "ipython3",
   "version": "3.7.3"
  },
  "orig_nbformat": 4,
  "vscode": {
   "interpreter": {
    "hash": "916dbcbb3f70747c44a77c7bcd40155683ae19c65e1c03b4aa3499c5328201f1"
   }
  }
 },
 "nbformat": 4,
 "nbformat_minor": 2
}
